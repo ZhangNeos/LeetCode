{
 "cells": [
  {
   "cell_type": "code",
   "execution_count": null,
   "metadata": {},
   "outputs": [],
   "source": [
    "class Solution:\n",
    "    def lengthOfLongestSubstring(self, s: str) -> int:\n",
    "        if len(s) <= 1: # 考虑退化情况\n",
    "            return len(s)\n",
    "        start=end=0\n",
    "        maxLength=0\n",
    "        while end <= len(s)-1:\n",
    "            if s[end] in s[start:end]:\n",
    "                maxLength=max(maxLength, end-start)\n",
    "                start += 1\n",
    "            else:\n",
    "                end += 1\n",
    "                maxLength=max(maxLength, end-start)\n",
    "            \n",
    "        return maxLength"
   ]
  }
 ],
 "metadata": {
  "kernelspec": {
   "display_name": "Python 3",
   "language": "python",
   "name": "python3"
  },
  "language_info": {
   "codemirror_mode": {
    "name": "ipython",
    "version": 3
   },
   "file_extension": ".py",
   "mimetype": "text/x-python",
   "name": "python",
   "nbconvert_exporter": "python",
   "pygments_lexer": "ipython3",
   "version": "3.7.1"
  }
 },
 "nbformat": 4,
 "nbformat_minor": 2
}
