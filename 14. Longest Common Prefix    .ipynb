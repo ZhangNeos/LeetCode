{
 "cells": [
  {
   "cell_type": "code",
   "execution_count": null,
   "metadata": {},
   "outputs": [],
   "source": [
    "class Solution:\n",
    "    def longestCommonPrefix1(self, strs):\n",
    "        if not strs: return \"\"\n",
    "        ss = list(map(set, zip(*strs)))\n",
    "        res = \"\"\n",
    "        for i, x in enumerate(ss):\n",
    "            x = list(x)\n",
    "            if len(x) > 1:\n",
    "                break\n",
    "            res = res + x[0]\n",
    "        return res\n",
    "    \n",
    "    def longestCommonPrefix(self, strs):\n",
    "        if not strs: return \"\"\n",
    "        s1 = min(strs)\n",
    "        s2 = max(strs)\n",
    "        for i,x in enumerate(s1):\n",
    "            if x != s2[i]:\n",
    "                return s2[:i]\n",
    "        return s1"
   ]
  }
 ],
 "metadata": {
  "kernelspec": {
   "display_name": "Python 3",
   "language": "python",
   "name": "python3"
  },
  "language_info": {
   "codemirror_mode": {
    "name": "ipython",
    "version": 3
   },
   "file_extension": ".py",
   "mimetype": "text/x-python",
   "name": "python",
   "nbconvert_exporter": "python",
   "pygments_lexer": "ipython3",
   "version": "3.7.1"
  }
 },
 "nbformat": 4,
 "nbformat_minor": 2
}
