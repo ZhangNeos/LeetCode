{
 "cells": [
  {
   "cell_type": "code",
   "execution_count": null,
   "metadata": {},
   "outputs": [],
   "source": [
    "class Solution:\n",
    "    def reverse1(self, x: int) -> int:\n",
    "   \n",
    "        sign = x<0 and -1 or 1\n",
    "        x = abs(x)\n",
    "        ans = 0\n",
    "        while x:\n",
    "            ans = ans*10 + x%10\n",
    "            x = x//10\n",
    "        return sign * ans if ans <= 0x7fffffff else 0\n",
    "    \n",
    "    def reverse2(self, x: int) -> int:\n",
    "        str_x = str(x)\n",
    "        sign=1\n",
    "        if str_x.startswith('-'):\n",
    "            sign = -1\n",
    "            str_x = str_x[1:]\n",
    "        \n",
    "        res=sign * int(str_x[::-1])\n",
    "        if 2147483647>res>-2147483648:\n",
    "            return res\n",
    "        else:\n",
    "            return 0 \n",
    "        "
   ]
  }
 ],
 "metadata": {
  "kernelspec": {
   "display_name": "Python 3",
   "language": "python",
   "name": "python3"
  },
  "language_info": {
   "codemirror_mode": {
    "name": "ipython",
    "version": 3
   },
   "file_extension": ".py",
   "mimetype": "text/x-python",
   "name": "python",
   "nbconvert_exporter": "python",
   "pygments_lexer": "ipython3",
   "version": "3.7.1"
  }
 },
 "nbformat": 4,
 "nbformat_minor": 2
}
