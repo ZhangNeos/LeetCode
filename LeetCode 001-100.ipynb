{
 "cells": [
  {
   "cell_type": "markdown",
   "metadata": {},
   "source": [
    "# 1.两数之和\n",
    "    给定一个整数数组和一个目标值，找出数组中和为目标值的两个数\n",
    "    可以假设每个输入只对应一种答案，且同样的元素不能被重复使用"
   ]
  },
  {
   "cell_type": "code",
   "execution_count": 16,
   "metadata": {},
   "outputs": [],
   "source": [
    "# 利用字典实现哈希查找，具有最小的时间复杂度\n",
    "def twosum(num_list:list, target:int):\n",
    "    d = {}\n",
    "    for i, num in enumerate(num_list):\n",
    "        if target - num in d:\n",
    "            return [d[target - num], i]\n",
    "        d[num] = i\n",
    "# no special case handling because it's assumed that it has only one solution"
   ]
  },
  {
   "cell_type": "code",
   "execution_count": 17,
   "metadata": {},
   "outputs": [
    {
     "data": {
      "text/plain": [
       "[1, 3]"
      ]
     },
     "execution_count": 17,
     "metadata": {},
     "output_type": "execute_result"
    }
   ],
   "source": [
    "twosum([1, 2, 3, 4], 6 )"
   ]
  },
  {
   "cell_type": "code",
   "execution_count": 18,
   "metadata": {},
   "outputs": [],
   "source": [
    "# 暴力解法\n",
    "def twosum2(num_list:list, target:int):\n",
    "    for j in range(len(num_list)):\n",
    "        for i in range(len(num_list)):\n",
    "            if (i != j) and (num_list[i] + num_list[j] == target):\n",
    "                return i, j"
   ]
  },
  {
   "cell_type": "code",
   "execution_count": 19,
   "metadata": {},
   "outputs": [
    {
     "data": {
      "text/plain": [
       "(3, 1)"
      ]
     },
     "execution_count": 19,
     "metadata": {},
     "output_type": "execute_result"
    }
   ],
   "source": [
    "twosum2([1, 2, 3, 4], 6)"
   ]
  },
  {
   "cell_type": "markdown",
   "metadata": {},
   "source": [
    "# 2.两数相加\n",
    "    给定两个非空链表来表示两个非负整数\n",
    "    位数按照逆序方式存储，它们的每个节点只存储单个数字\n",
    "    将两个数相加返回一个新的链表\n",
    "    \n",
    "    假定除了数字0之外，这两个数字都不会以零开头\n",
    "    \n",
    "    示例: \n",
    "        输入: (2->4->3) + (5->6->7)\n",
    "        输出: 7->0->8\n",
    "        原因: 342 + 465 = 807"
   ]
  },
  {
   "cell_type": "code",
   "execution_count": null,
   "metadata": {},
   "outputs": [],
   "source": []
  }
 ],
 "metadata": {
  "kernelspec": {
   "display_name": "Python 3",
   "language": "python",
   "name": "python3"
  },
  "language_info": {
   "codemirror_mode": {
    "name": "ipython",
    "version": 3
   },
   "file_extension": ".py",
   "mimetype": "text/x-python",
   "name": "python",
   "nbconvert_exporter": "python",
   "pygments_lexer": "ipython3",
   "version": "3.7.1"
  }
 },
 "nbformat": 4,
 "nbformat_minor": 2
}
