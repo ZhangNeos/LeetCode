{
 "cells": [
  {
   "cell_type": "markdown",
   "metadata": {},
   "source": [
    "1.TwoSum"
   ]
  },
  {
   "cell_type": "code",
   "execution_count": null,
   "metadata": {},
   "outputs": [],
   "source": [
    "class Solution:\n",
    "    def twoSum1(self, nums: List[int], target: int) -> List[int]:\n",
    "        for i in range(len(nums)):\n",
    "            for j in range(i+1, len(nums)):\n",
    "                if nums[i] + nums[j] == target:\n",
    "                    return i, j\n",
    "\n",
    "    def twoSum2(self, nums: List[int], target: int) -> List[int]:\n",
    "        d = {}\n",
    "        for i, v in enumerate(nums):\n",
    "            if target - v in d:\n",
    "                return d[target-v], i\n",
    "            else:\n",
    "                d[v] = i\n",
    "                \n",
    "    def twoSum3(self, nums: List[int], target: int) -> List[int]:\n",
    "        sorted_id = sorted(range(len(nums)), key=lambda k: nums[k])\n",
    "        head = 0\n",
    "        tail = len(nums) - 1\n",
    "        sum_result = nums[sorted_id[head]] + nums[sorted_id[tail]]\n",
    "        while sum_result != target:\n",
    "            if sum_result > target:\n",
    "                tail -= 1\n",
    "            elif sum_result < target:\n",
    "                head += 1\n",
    "            sum_result = nums[sorted_id[head]] + nums[sorted_id[tail]]\n",
    "        return [sorted_id[head], sorted_id[tail]]"
   ]
  }
 ],
 "metadata": {
  "kernelspec": {
   "display_name": "Python 3",
   "language": "python",
   "name": "python3"
  },
  "language_info": {
   "codemirror_mode": {
    "name": "ipython",
    "version": 3
   },
   "file_extension": ".py",
   "mimetype": "text/x-python",
   "name": "python",
   "nbconvert_exporter": "python",
   "pygments_lexer": "ipython3",
   "version": "3.7.1"
  }
 },
 "nbformat": 4,
 "nbformat_minor": 2
}
