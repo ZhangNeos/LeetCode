{
 "cells": [
  {
   "cell_type": "code",
   "execution_count": null,
   "metadata": {},
   "outputs": [],
   "source": [
    "# Definition for singly-linked list.\n",
    "# class ListNode:\n",
    "#     def __init__(self, x):\n",
    "#         self.val = x\n",
    "#         self.next = None\n",
    "\n",
    "class Solution:\n",
    "    def mergeTwoLists(self, l1: ListNode, l2: ListNode) -> ListNode:\n",
    "        dummy=ListNode(-1)\n",
    "        ptr=dummy\n",
    "        while l1 and l2:\n",
    "            if l1.val < l2.val:\n",
    "                ptr.next=l1\n",
    "                ptr=ptr.next\n",
    "                l1=l1.next\n",
    "            else:\n",
    "                ptr.next=l2\n",
    "                ptr=ptr.next\n",
    "                l2=l2.next\n",
    "        if l1:\n",
    "            ptr.next=l1\n",
    "            ptr=ptr.next\n",
    "        if l2:\n",
    "            ptr.next=l2\n",
    "            ptr=ptr.next\n",
    "        return dummy.next"
   ]
  }
 ],
 "metadata": {
  "kernelspec": {
   "display_name": "Python 3",
   "language": "python",
   "name": "python3"
  },
  "language_info": {
   "codemirror_mode": {
    "name": "ipython",
    "version": 3
   },
   "file_extension": ".py",
   "mimetype": "text/x-python",
   "name": "python",
   "nbconvert_exporter": "python",
   "pygments_lexer": "ipython3",
   "version": "3.7.1"
  }
 },
 "nbformat": 4,
 "nbformat_minor": 2
}
