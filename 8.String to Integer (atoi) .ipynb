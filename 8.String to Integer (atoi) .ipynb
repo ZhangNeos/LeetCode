{
 "cells": [
  {
   "cell_type": "code",
   "execution_count": null,
   "metadata": {},
   "outputs": [],
   "source": [
    "class Solution:\n",
    "    def myAtoi(self, str: str) -> int:\n",
    "        s=str.strip()\n",
    "        sign=1\n",
    "        if not s:\n",
    "            return 0\n",
    "        if s[0] in ['+', '-']:\n",
    "            if s[0] == '-':\n",
    "                sign = -1\n",
    "            s = s[1:]\n",
    "        ans = 0\n",
    "        for c in s:\n",
    "            if c.isdigit():\n",
    "                ans = ans * 10 + int(c)\n",
    "            else:\n",
    "                break\n",
    "        ans = sign * ans\n",
    "        if ans > 2147483647:\n",
    "            return 2147483647\n",
    "        if ans < -2147483648:\n",
    "            return -2147483648\n",
    "        return ans\n"
   ]
  }
 ],
 "metadata": {
  "kernelspec": {
   "display_name": "Python 3",
   "language": "python",
   "name": "python3"
  },
  "language_info": {
   "codemirror_mode": {
    "name": "ipython",
    "version": 3
   },
   "file_extension": ".py",
   "mimetype": "text/x-python",
   "name": "python",
   "nbconvert_exporter": "python",
   "pygments_lexer": "ipython3",
   "version": "3.7.1"
  }
 },
 "nbformat": 4,
 "nbformat_minor": 2
}
