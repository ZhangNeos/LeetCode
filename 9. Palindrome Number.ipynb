{
 "cells": [
  {
   "cell_type": "code",
   "execution_count": null,
   "metadata": {},
   "outputs": [],
   "source": [
    "class Solution:\n",
    "    def isPalindrome1(self, x: int) -> bool:\n",
    "        if x<0 or (x!=0 and x%10==0):\n",
    "            return False\n",
    "        y=0; z=x\n",
    "        while x:\n",
    "            y = y*10 + x%10\n",
    "            x = x//10\n",
    "        return z==y\n",
    "\n",
    "    def isPalindrome2(self, x: int) -> bool:\n",
    "        if x<0 or (x!=0 and x%10==0):\n",
    "            return False\n",
    "        str_x = str(x)\n",
    "        if str_x == str_x[::-1]:\n",
    "            return True"
   ]
  }
 ],
 "metadata": {
  "kernelspec": {
   "display_name": "Python 3",
   "language": "python",
   "name": "python3"
  },
  "language_info": {
   "codemirror_mode": {
    "name": "ipython",
    "version": 3
   },
   "file_extension": ".py",
   "mimetype": "text/x-python",
   "name": "python",
   "nbconvert_exporter": "python",
   "pygments_lexer": "ipython3",
   "version": "3.7.1"
  }
 },
 "nbformat": 4,
 "nbformat_minor": 2
}
