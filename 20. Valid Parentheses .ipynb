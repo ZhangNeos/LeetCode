{
 "cells": [
  {
   "cell_type": "code",
   "execution_count": null,
   "metadata": {},
   "outputs": [],
   "source": [
    "class Solution:\n",
    "    def isValid(self, s: str) -> bool:\n",
    "        stack=[]\n",
    "        d = ['()', '{}', '[]']\n",
    "        for i in range(len(s)):\n",
    "            stack.append(s[i])\n",
    "            if len(stack) >= 2 and stack[-2] + stack[-1] in d:\n",
    "                stack.pop()\n",
    "                stack.pop()\n",
    "        return len(stack)==0"
   ]
  }
 ],
 "metadata": {
  "kernelspec": {
   "display_name": "Python 3",
   "language": "python",
   "name": "python3"
  },
  "language_info": {
   "codemirror_mode": {
    "name": "ipython",
    "version": 3
   },
   "file_extension": ".py",
   "mimetype": "text/x-python",
   "name": "python",
   "nbconvert_exporter": "python",
   "pygments_lexer": "ipython3",
   "version": "3.7.1"
  }
 },
 "nbformat": 4,
 "nbformat_minor": 2
}
