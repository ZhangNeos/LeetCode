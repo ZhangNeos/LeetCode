{
 "cells": [
  {
   "cell_type": "code",
   "execution_count": null,
   "metadata": {},
   "outputs": [],
   "source": [
    "# Definition for singly-linked list.\n",
    "# class ListNode:\n",
    "#     def __init__(self, x):\n",
    "#         self.val = x\n",
    "#         self.next = None\n",
    "class Solution:\n",
    "    def addTwoNumbers1(self, l1: ListNode, l2: ListNode) -> ListNode:\n",
    "        m=n=0\n",
    "        res1=0\n",
    "        res2=0\n",
    "        \n",
    "        while l1:\n",
    "            res1 += l1.val * 10 ** m\n",
    "            m += 1\n",
    "            l1 = l1.next\n",
    "        while l2:\n",
    "            res2 += l2.val * 10 ** n\n",
    "            n += 1\n",
    "            l2 = l2.next\n",
    "        s = res1 + res2\n",
    "        if s==0:\n",
    "            return ListNode(0)\n",
    "        dummy = ListNode(-1)\n",
    "        ptr = dummy\n",
    "        while s:\n",
    "            ptr.next = ListNode(s % 10)\n",
    "            s = s // 10\n",
    "            ptr = ptr.next\n",
    "        return dummy.next\n",
    "    \n",
    "    def addTwoNumbers2(self, l1: ListNode, l2: ListNode) -> ListNode:\n",
    "        p=dummy=ListNode(-1)\n",
    "        carry=0\n",
    "        while l1 or l2 or carry:\n",
    "            val = (l1 and l1.val or 0) + (l2 and l2.val or 0) + carry\n",
    "            carry = val // 10\n",
    "            p.next = ListNode(val % 10)\n",
    "            l1 = l1 and l1.next\n",
    "            l2 = l2 and l2.next\n",
    "            p = p.next\n",
    "        return dummy.next"
   ]
  }
 ],
 "metadata": {
  "kernelspec": {
   "display_name": "Python 3",
   "language": "python",
   "name": "python3"
  },
  "language_info": {
   "codemirror_mode": {
    "name": "ipython",
    "version": 3
   },
   "file_extension": ".py",
   "mimetype": "text/x-python",
   "name": "python",
   "nbconvert_exporter": "python",
   "pygments_lexer": "ipython3",
   "version": "3.7.1"
  }
 },
 "nbformat": 4,
 "nbformat_minor": 2
}
